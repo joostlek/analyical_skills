{
 "cells": [
  {
   "cell_type": "markdown",
   "source": [
    "# Analytische Vaardigheden\n",
    "\n"
   ],
   "metadata": {
    "collapsed": false
   }
  },
  {
   "cell_type": "markdown",
   "source": [
    "\n",
    "Importeren van de dependencies\n"
   ],
   "metadata": {
    "collapsed": false
   }
  },
  {
   "cell_type": "code",
   "execution_count": 28,
   "outputs": [],
   "source": [
    "import numpy as np\n",
    "import pandas as pd\n",
    "import scipy.stats as stats\n",
    "import datetime\n",
    "pd.options.mode.chained_assignment = None"
   ],
   "metadata": {
    "collapsed": false,
    "pycharm": {
     "name": "#%%\n",
     "is_executing": false
    }
   }
  },
  {
   "cell_type": "markdown",
   "source": [
    "## Het inladen van de dataset\n",
    "Eerst laden we de dataset in"
   ],
   "metadata": {
    "collapsed": false
   }
  },
  {
   "cell_type": "code",
   "execution_count": 29,
   "outputs": [
    {
     "data": {
      "text/plain": "         Date   Open   High    Low  Close  Adj Close   Volume\n0  1950-01-03  16.66  16.66  16.66  16.66      16.66  1260000\n1  1950-01-04  16.85  16.85  16.85  16.85      16.85  1890000\n2  1950-01-05  16.93  16.93  16.93  16.93      16.93  2550000\n3  1950-01-06  16.98  16.98  16.98  16.98      16.98  2010000\n4  1950-01-09  17.08  17.08  17.08  17.08      17.08  2520000",
      "text/html": "<div>\n<style scoped>\n    .dataframe tbody tr th:only-of-type {\n        vertical-align: middle;\n    }\n\n    .dataframe tbody tr th {\n        vertical-align: top;\n    }\n\n    .dataframe thead th {\n        text-align: right;\n    }\n</style>\n<table border=\"1\" class=\"dataframe\">\n  <thead>\n    <tr style=\"text-align: right;\">\n      <th></th>\n      <th>Date</th>\n      <th>Open</th>\n      <th>High</th>\n      <th>Low</th>\n      <th>Close</th>\n      <th>Adj Close</th>\n      <th>Volume</th>\n    </tr>\n  </thead>\n  <tbody>\n    <tr>\n      <th>0</th>\n      <td>1950-01-03</td>\n      <td>16.66</td>\n      <td>16.66</td>\n      <td>16.66</td>\n      <td>16.66</td>\n      <td>16.66</td>\n      <td>1260000</td>\n    </tr>\n    <tr>\n      <th>1</th>\n      <td>1950-01-04</td>\n      <td>16.85</td>\n      <td>16.85</td>\n      <td>16.85</td>\n      <td>16.85</td>\n      <td>16.85</td>\n      <td>1890000</td>\n    </tr>\n    <tr>\n      <th>2</th>\n      <td>1950-01-05</td>\n      <td>16.93</td>\n      <td>16.93</td>\n      <td>16.93</td>\n      <td>16.93</td>\n      <td>16.93</td>\n      <td>2550000</td>\n    </tr>\n    <tr>\n      <th>3</th>\n      <td>1950-01-06</td>\n      <td>16.98</td>\n      <td>16.98</td>\n      <td>16.98</td>\n      <td>16.98</td>\n      <td>16.98</td>\n      <td>2010000</td>\n    </tr>\n    <tr>\n      <th>4</th>\n      <td>1950-01-09</td>\n      <td>17.08</td>\n      <td>17.08</td>\n      <td>17.08</td>\n      <td>17.08</td>\n      <td>17.08</td>\n      <td>2520000</td>\n    </tr>\n  </tbody>\n</table>\n</div>"
     },
     "metadata": {},
     "output_type": "execute_result",
     "execution_count": 29
    }
   ],
   "source": [
    "indexes = pd.read_csv('GSPC.csv')\n",
    "indexes.head()"
   ],
   "metadata": {
    "collapsed": false,
    "pycharm": {
     "name": "#%%\n",
     "is_executing": false
    }
   }
  },
  {
   "cell_type": "markdown",
   "source": [
    "## Het schoonmaken\n",
    "Dan gaan we de dataset schoonmaken en alle kolommen droppen die we niet meer gaan gebruiken. Ook maken we van de kolomnamen kleine letters want dat is handig!"
   ],
   "metadata": {
    "collapsed": false
   }
  },
  {
   "cell_type": "code",
   "execution_count": 30,
   "outputs": [
    {
     "data": {
      "text/plain": "        date   open\n0 1950-01-03  16.66\n1 1950-01-04  16.85\n2 1950-01-05  16.93\n3 1950-01-06  16.98\n4 1950-01-09  17.08",
      "text/html": "<div>\n<style scoped>\n    .dataframe tbody tr th:only-of-type {\n        vertical-align: middle;\n    }\n\n    .dataframe tbody tr th {\n        vertical-align: top;\n    }\n\n    .dataframe thead th {\n        text-align: right;\n    }\n</style>\n<table border=\"1\" class=\"dataframe\">\n  <thead>\n    <tr style=\"text-align: right;\">\n      <th></th>\n      <th>date</th>\n      <th>open</th>\n    </tr>\n  </thead>\n  <tbody>\n    <tr>\n      <th>0</th>\n      <td>1950-01-03</td>\n      <td>16.66</td>\n    </tr>\n    <tr>\n      <th>1</th>\n      <td>1950-01-04</td>\n      <td>16.85</td>\n    </tr>\n    <tr>\n      <th>2</th>\n      <td>1950-01-05</td>\n      <td>16.93</td>\n    </tr>\n    <tr>\n      <th>3</th>\n      <td>1950-01-06</td>\n      <td>16.98</td>\n    </tr>\n    <tr>\n      <th>4</th>\n      <td>1950-01-09</td>\n      <td>17.08</td>\n    </tr>\n  </tbody>\n</table>\n</div>"
     },
     "metadata": {},
     "output_type": "execute_result",
     "execution_count": 30
    }
   ],
   "source": [
    "indexes['date'] = pd.to_datetime(indexes['Date'])\n",
    "indexes['open'] = indexes['Open']\n",
    "columns_to_keep = [\n",
    "    'date',\n",
    "    'open'\n",
    "]\n",
    "indexes = indexes[columns_to_keep]\n",
    "indexes.head()"
   ],
   "metadata": {
    "collapsed": false,
    "pycharm": {
     "name": "#%%\n",
     "is_executing": false
    }
   }
  },
  {
   "cell_type": "markdown",
   "source": [
    "Nu gaan we de startjaar en eindjaar bepalen"
   ],
   "metadata": {
    "collapsed": false
   }
  },
  {
   "cell_type": "code",
   "execution_count": 31,
   "outputs": [
    {
     "data": {
      "text/plain": "2017"
     },
     "metadata": {},
     "output_type": "execute_result",
     "execution_count": 31
    }
   ],
   "source": [
    "startjaar = 2013\n",
    "duur = 4\n",
    "eindjaar = startjaar + duur\n",
    "eindjaar"
   ],
   "metadata": {
    "collapsed": false,
    "pycharm": {
     "name": "#%%\n",
     "is_executing": false
    }
   }
  },
  {
   "cell_type": "markdown",
   "source": [
    "We bepalen de rente"
   ],
   "metadata": {
    "collapsed": false
   }
  },
  {
   "cell_type": "code",
   "execution_count": 32,
   "outputs": [],
   "source": [
    "rente = 1.00"
   ],
   "metadata": {
    "collapsed": false,
    "pycharm": {
     "name": "#%%\n",
     "is_executing": false
    }
   }
  },
  {
   "cell_type": "markdown",
   "source": [
    "Nu gaan we een nieuwe Dataframe maken waar al onze resultaten in komen, we maken er eerst eentje met alle datums waar we gaan investeren. "
   ],
   "metadata": {
    "collapsed": false
   }
  },
  {
   "cell_type": "code",
   "execution_count": 58,
   "outputs": [
    {
     "data": {
      "text/plain": "        date  schuld\n0 2013-09-01     0.0\n1 2014-09-01     0.0\n2 2015-09-01     0.0\n3 2016-09-01     0.0\n4 2017-09-01     0.0",
      "text/html": "<div>\n<style scoped>\n    .dataframe tbody tr th:only-of-type {\n        vertical-align: middle;\n    }\n\n    .dataframe tbody tr th {\n        vertical-align: top;\n    }\n\n    .dataframe thead th {\n        text-align: right;\n    }\n</style>\n<table border=\"1\" class=\"dataframe\">\n  <thead>\n    <tr style=\"text-align: right;\">\n      <th></th>\n      <th>date</th>\n      <th>schuld</th>\n    </tr>\n  </thead>\n  <tbody>\n    <tr>\n      <th>0</th>\n      <td>2013-09-01</td>\n      <td>0.0</td>\n    </tr>\n    <tr>\n      <th>1</th>\n      <td>2014-09-01</td>\n      <td>0.0</td>\n    </tr>\n    <tr>\n      <th>2</th>\n      <td>2015-09-01</td>\n      <td>0.0</td>\n    </tr>\n    <tr>\n      <th>3</th>\n      <td>2016-09-01</td>\n      <td>0.0</td>\n    </tr>\n    <tr>\n      <th>4</th>\n      <td>2017-09-01</td>\n      <td>0.0</td>\n    </tr>\n  </tbody>\n</table>\n</div>"
     },
     "metadata": {},
     "output_type": "execute_result",
     "execution_count": 58
    }
   ],
   "source": [
    "jaren = pd.date_range(str(startjaar) + \"-09-01\", periods=duur + 1, freq='AS-SEP')\n",
    "df = pd.DataFrame({'date': jaren, 'schuld': 0.0})\n",
    "df.head()"
   ],
   "metadata": {
    "collapsed": false,
    "pycharm": {
     "name": "#%%\n",
     "is_executing": false
    }
   }
  },
  {
   "cell_type": "markdown",
   "source": [
    "Nu gaan we de maandelijkse studiefinanciering bepalen, deze is te vinden op de site van DUO."
   ],
   "metadata": {
    "collapsed": false
   }
  },
  {
   "cell_type": "code",
   "execution_count": 59,
   "outputs": [
    {
     "data": {
      "text/plain": "1056.06"
     },
     "metadata": {},
     "output_type": "execute_result",
     "execution_count": 59
    }
   ],
   "source": [
    "lening = 486.08\n",
    "beurs = 396.39\n",
    "collegegeldkrediet = 173.59\n",
    "totaal = lening + beurs + collegegeldkrediet\n",
    "totaal"
   ],
   "metadata": {
    "collapsed": false,
    "pycharm": {
     "name": "#%%\n",
     "is_executing": false
    }
   }
  },
  {
   "cell_type": "markdown",
   "source": [
    "Dat is wat we per maand kunnen krijgen van Ome duo. Per jaar is dat dus:"
   ],
   "metadata": {
    "collapsed": false
   }
  },
  {
   "cell_type": "code",
   "execution_count": 60,
   "outputs": [
    {
     "data": {
      "text/plain": "12672.72"
     },
     "metadata": {},
     "output_type": "execute_result",
     "execution_count": 60
    }
   ],
   "source": [
    "totaal = totaal * 12\n",
    "totaal"
   ],
   "metadata": {
    "collapsed": false,
    "pycharm": {
     "name": "#%%\n",
     "is_executing": false
    }
   }
  },
  {
   "cell_type": "markdown",
   "source": [
    "Op 1 september van het eerste jaar hebben we nog geen geld, want dan beginnen we pas, dus dan is de schuld 0"
   ],
   "metadata": {
    "collapsed": false
   }
  },
  {
   "cell_type": "code",
   "execution_count": 61,
   "outputs": [
    {
     "data": {
      "text/plain": "        date  schuld\n0 2013-09-01     0.0\n1 2014-09-01     0.0\n2 2015-09-01     0.0\n3 2016-09-01     0.0\n4 2017-09-01     0.0",
      "text/html": "<div>\n<style scoped>\n    .dataframe tbody tr th:only-of-type {\n        vertical-align: middle;\n    }\n\n    .dataframe tbody tr th {\n        vertical-align: top;\n    }\n\n    .dataframe thead th {\n        text-align: right;\n    }\n</style>\n<table border=\"1\" class=\"dataframe\">\n  <thead>\n    <tr style=\"text-align: right;\">\n      <th></th>\n      <th>date</th>\n      <th>schuld</th>\n    </tr>\n  </thead>\n  <tbody>\n    <tr>\n      <th>0</th>\n      <td>2013-09-01</td>\n      <td>0.0</td>\n    </tr>\n    <tr>\n      <th>1</th>\n      <td>2014-09-01</td>\n      <td>0.0</td>\n    </tr>\n    <tr>\n      <th>2</th>\n      <td>2015-09-01</td>\n      <td>0.0</td>\n    </tr>\n    <tr>\n      <th>3</th>\n      <td>2016-09-01</td>\n      <td>0.0</td>\n    </tr>\n    <tr>\n      <th>4</th>\n      <td>2017-09-01</td>\n      <td>0.0</td>\n    </tr>\n  </tbody>\n</table>\n</div>"
     },
     "metadata": {},
     "output_type": "execute_result",
     "execution_count": 61
    }
   ],
   "source": [
    "df['schuld'][0] = 0\n",
    "df.head()"
   ],
   "metadata": {
    "collapsed": false,
    "pycharm": {
     "name": "#%%\n",
     "is_executing": false
    }
   }
  },
  {
   "cell_type": "markdown",
   "source": [
    "Doordat er in de dataset niet altijd een 1 september te vinden is, omdat er in het weekend de markten niet open zijn, gaan we kijken wat de eerstvolgende datum is dat er wel een waarde beschikbaar is"
   ],
   "metadata": {
    "collapsed": false
   }
  },
  {
   "cell_type": "code",
   "execution_count": 62,
   "outputs": [
    {
     "data": {
      "text/plain": "        date  schuld         open\n0 2013-09-03     0.0  1635.949951\n1 2014-09-02     0.0  2004.069946\n2 2015-09-01     0.0  1970.089966\n3 2016-09-01     0.0  2171.330078\n4 2017-09-01     0.0  2474.419922",
      "text/html": "<div>\n<style scoped>\n    .dataframe tbody tr th:only-of-type {\n        vertical-align: middle;\n    }\n\n    .dataframe tbody tr th {\n        vertical-align: top;\n    }\n\n    .dataframe thead th {\n        text-align: right;\n    }\n</style>\n<table border=\"1\" class=\"dataframe\">\n  <thead>\n    <tr style=\"text-align: right;\">\n      <th></th>\n      <th>date</th>\n      <th>schuld</th>\n      <th>open</th>\n    </tr>\n  </thead>\n  <tbody>\n    <tr>\n      <th>0</th>\n      <td>2013-09-03</td>\n      <td>0.0</td>\n      <td>1635.949951</td>\n    </tr>\n    <tr>\n      <th>1</th>\n      <td>2014-09-02</td>\n      <td>0.0</td>\n      <td>2004.069946</td>\n    </tr>\n    <tr>\n      <th>2</th>\n      <td>2015-09-01</td>\n      <td>0.0</td>\n      <td>1970.089966</td>\n    </tr>\n    <tr>\n      <th>3</th>\n      <td>2016-09-01</td>\n      <td>0.0</td>\n      <td>2171.330078</td>\n    </tr>\n    <tr>\n      <th>4</th>\n      <td>2017-09-01</td>\n      <td>0.0</td>\n      <td>2474.419922</td>\n    </tr>\n  </tbody>\n</table>\n</div>"
     },
     "metadata": {},
     "output_type": "execute_result",
     "execution_count": 62
    }
   ],
   "source": [
    "def get_day_value(date):\n",
    "    global df, indexes\n",
    "    if len(indexes[indexes['date'] != date]) != len(indexes) - 1:\n",
    "        return get_day_value(date + datetime.timedelta(days=1))\n",
    "    else:\n",
    "        return indexes[indexes['date'] == date]\n",
    "\n",
    "for index, row in df.iterrows():\n",
    "    df['date'][index] = get_day_value(row['date']).iloc[0]['date']\n",
    "df.head()\n",
    "df = pd.merge(df, indexes, on='date')\n",
    "df.head()"
   ],
   "metadata": {
    "collapsed": false,
    "pycharm": {
     "name": "#%%\n",
     "is_executing": false
    }
   }
  },
  {
   "cell_type": "markdown",
   "source": [
    "We voegen nog de kolommen toe voor de aantal aandelen en voor de rest van het geld"
   ],
   "metadata": {
    "collapsed": false,
    "pycharm": {
     "name": "#%% md\n"
    }
   }
  },
  {
   "cell_type": "code",
   "execution_count": 63,
   "outputs": [
    {
     "data": {
      "text/plain": "        date  totaalgeleend  schuld         open  aandelen  rest\n0 2013-09-03              0     0.0  1635.949951         0     0\n1 2014-09-02              0     0.0  2004.069946         0     0\n2 2015-09-01              0     0.0  1970.089966         0     0\n3 2016-09-01              0     0.0  2171.330078         0     0\n4 2017-09-01              0     0.0  2474.419922         0     0",
      "text/html": "<div>\n<style scoped>\n    .dataframe tbody tr th:only-of-type {\n        vertical-align: middle;\n    }\n\n    .dataframe tbody tr th {\n        vertical-align: top;\n    }\n\n    .dataframe thead th {\n        text-align: right;\n    }\n</style>\n<table border=\"1\" class=\"dataframe\">\n  <thead>\n    <tr style=\"text-align: right;\">\n      <th></th>\n      <th>date</th>\n      <th>totaalgeleend</th>\n      <th>schuld</th>\n      <th>open</th>\n      <th>aandelen</th>\n      <th>rest</th>\n    </tr>\n  </thead>\n  <tbody>\n    <tr>\n      <th>0</th>\n      <td>2013-09-03</td>\n      <td>0</td>\n      <td>0.0</td>\n      <td>1635.949951</td>\n      <td>0</td>\n      <td>0</td>\n    </tr>\n    <tr>\n      <th>1</th>\n      <td>2014-09-02</td>\n      <td>0</td>\n      <td>0.0</td>\n      <td>2004.069946</td>\n      <td>0</td>\n      <td>0</td>\n    </tr>\n    <tr>\n      <th>2</th>\n      <td>2015-09-01</td>\n      <td>0</td>\n      <td>0.0</td>\n      <td>1970.089966</td>\n      <td>0</td>\n      <td>0</td>\n    </tr>\n    <tr>\n      <th>3</th>\n      <td>2016-09-01</td>\n      <td>0</td>\n      <td>0.0</td>\n      <td>2171.330078</td>\n      <td>0</td>\n      <td>0</td>\n    </tr>\n    <tr>\n      <th>4</th>\n      <td>2017-09-01</td>\n      <td>0</td>\n      <td>0.0</td>\n      <td>2474.419922</td>\n      <td>0</td>\n      <td>0</td>\n    </tr>\n  </tbody>\n</table>\n</div>"
     },
     "metadata": {},
     "output_type": "execute_result",
     "execution_count": 63
    }
   ],
   "source": [
    "df.insert(1, 'totaalgeleend', 0)\n",
    "df['aandelen'] = 0\n",
    "df['rest'] = 0\n",
    "df.head()"
   ],
   "metadata": {
    "collapsed": false,
    "pycharm": {
     "name": "#%%\n",
     "is_executing": false
    }
   }
  },
  {
   "cell_type": "markdown",
   "source": [
    "Nu komt het gedeelte waar we elk jaar berekenen "
   ],
   "metadata": {
    "collapsed": false,
    "pycharm": {
     "name": "#%% md\n"
    }
   }
  },
  {
   "cell_type": "code",
   "execution_count": 66,
   "outputs": [
    {
     "data": {
      "text/plain": "        date  totaalgeleend  schuld         open  aandelen         rest\n0 2013-09-03       12672.72     0.0  1635.949951       7.0  1221.070343\n1 2014-09-02       25345.44     0.0  2004.069946      13.0  1869.370667\n2 2015-09-01       38018.16     0.0  1970.089966      20.0   751.460905\n3 2016-09-01       50690.88     0.0  2171.330078      26.0   396.200437\n4 2017-09-01       50690.88     0.0  2474.419922      26.0   396.200437",
      "text/html": "<div>\n<style scoped>\n    .dataframe tbody tr th:only-of-type {\n        vertical-align: middle;\n    }\n\n    .dataframe tbody tr th {\n        vertical-align: top;\n    }\n\n    .dataframe thead th {\n        text-align: right;\n    }\n</style>\n<table border=\"1\" class=\"dataframe\">\n  <thead>\n    <tr style=\"text-align: right;\">\n      <th></th>\n      <th>date</th>\n      <th>totaalgeleend</th>\n      <th>schuld</th>\n      <th>open</th>\n      <th>aandelen</th>\n      <th>rest</th>\n    </tr>\n  </thead>\n  <tbody>\n    <tr>\n      <th>0</th>\n      <td>2013-09-03</td>\n      <td>12672.72</td>\n      <td>0.0</td>\n      <td>1635.949951</td>\n      <td>7.0</td>\n      <td>1221.070343</td>\n    </tr>\n    <tr>\n      <th>1</th>\n      <td>2014-09-02</td>\n      <td>25345.44</td>\n      <td>0.0</td>\n      <td>2004.069946</td>\n      <td>13.0</td>\n      <td>1869.370667</td>\n    </tr>\n    <tr>\n      <th>2</th>\n      <td>2015-09-01</td>\n      <td>38018.16</td>\n      <td>0.0</td>\n      <td>1970.089966</td>\n      <td>20.0</td>\n      <td>751.460905</td>\n    </tr>\n    <tr>\n      <th>3</th>\n      <td>2016-09-01</td>\n      <td>50690.88</td>\n      <td>0.0</td>\n      <td>2171.330078</td>\n      <td>26.0</td>\n      <td>396.200437</td>\n    </tr>\n    <tr>\n      <th>4</th>\n      <td>2017-09-01</td>\n      <td>50690.88</td>\n      <td>0.0</td>\n      <td>2474.419922</td>\n      <td>26.0</td>\n      <td>396.200437</td>\n    </tr>\n  </tbody>\n</table>\n</div>"
     },
     "metadata": {},
     "output_type": "execute_result",
     "execution_count": 66
    }
   ],
   "source": [
    "for index, row in df.iterrows():\n",
    "    if index == 0:\n",
    "        df.loc[index, 'totaalgeleend'] = totaal\n",
    "        df.loc[index, 'aandelen'] = np.floor(totaal / row['open'])\n",
    "        df.loc[index, 'rest'] = totaal - df.loc[index, 'aandelen'] * row['open']\n",
    "    elif index != len(df) - 1:\n",
    "        df.loc[index, 'totaalgeleend'] = df.iloc[index - 1]['totaalgeleend'] + totaal\n",
    "        df.loc[index, 'aandelen'] = df.loc[index - 1, 'aandelen'] + np.floor((totaal + df.loc[index - 1, 'rest']) / row['open'])\n",
    "        df.loc[index, 'rest'] = (totaal + df.loc[index -1, 'rest']) - np.floor((totaal + df.loc[index - 1, 'rest']) / row['open']) * row['open']\n",
    "    else:\n",
    "        df.loc[index, 'totaalgeleend'] = df.loc[index - 1, 'totaalgeleend']\n",
    "        df.loc[index, 'aandelen'] = df.loc[index - 1, 'aandelen']\n",
    "        df.loc[index, 'rest'] = df.loc[index - 1, 'rest']\n",
    "        \n",
    "df.head()"
   ],
   "metadata": {
    "collapsed": false,
    "pycharm": {
     "name": "#%%\n",
     "is_executing": false
    }
   }
  },
  {
   "cell_type": "markdown",
   "source": [
    "de eindwaarde is"
   ],
   "metadata": {
    "collapsed": false,
    "pycharm": {
     "name": "#%% md\n",
     "is_executing": false
    }
   }
  },
  {
   "cell_type": "code",
   "execution_count": 69,
   "outputs": [
    {
     "data": {
      "text/plain": "64731.118409"
     },
     "metadata": {},
     "output_type": "execute_result",
     "execution_count": 69
    }
   ],
   "source": [
    "df.loc[len(df) - 1, 'aandelen'] * df.loc[len(df) - 1, 'open'] + df.loc[len(df) - 1, 'rest'] "
   ],
   "metadata": {
    "collapsed": false,
    "pycharm": {
     "name": "#%%\n",
     "is_executing": false
    }
   }
  },
  {
   "cell_type": "code",
   "execution_count": null,
   "outputs": [],
   "source": [
    "\n"
   ],
   "metadata": {
    "collapsed": false,
    "pycharm": {
     "name": "#%%\n"
    }
   }
  }
 ],
 "metadata": {
  "language_info": {
   "codemirror_mode": {
    "name": "ipython",
    "version": 2
   },
   "file_extension": ".py",
   "mimetype": "text/x-python",
   "name": "python",
   "nbconvert_exporter": "python",
   "pygments_lexer": "ipython2",
   "version": "2.7.6"
  },
  "kernelspec": {
   "name": "pycharm-c8152043",
   "language": "python",
   "display_name": "PyCharm (Data Science)"
  },
  "pycharm": {
   "stem_cell": {
    "cell_type": "raw",
    "source": [],
    "metadata": {
     "collapsed": false
    }
   }
  }
 },
 "nbformat": 4,
 "nbformat_minor": 0
}