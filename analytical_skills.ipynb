{
 "cells": [
  {
   "cell_type": "markdown",
   "metadata": {},
   "source": [
    "# Analytische Vaardigheden\n",
    "\n"
   ]
  },
  {
   "cell_type": "markdown",
   "metadata": {},
   "source": [
    "\n",
    "Importeren van de dependencies\n"
   ]
  },
  {
   "cell_type": "code",
   "execution_count": 213,
   "metadata": {
    "pycharm": {
     "is_executing": false,
     "name": "#%%\n"
    }
   },
   "outputs": [],
   "source": [
    "import numpy as np\n",
    "import pandas as pd\n",
    "import scipy.stats as stats\n",
    "import datetime\n",
    "import matplotlib\n",
    "import matplotlib.pyplot as plt\n",
    "%matplotlib inline\n",
    "pd.options.mode.chained_assignment = None"
   ]
  },
  {
   "cell_type": "markdown",
   "metadata": {},
   "source": [
    "## Het inladen van de dataset\n",
    "Eerst laden we de dataset in"
   ]
  },
  {
   "cell_type": "code",
   "execution_count": 214,
   "metadata": {
    "pycharm": {
     "is_executing": false,
     "name": "#%%\n"
    },
    "scrolled": true
   },
   "outputs": [
    {
     "data": {
      "text/html": [
       "<div>\n",
       "<style scoped>\n",
       "    .dataframe tbody tr th:only-of-type {\n",
       "        vertical-align: middle;\n",
       "    }\n",
       "\n",
       "    .dataframe tbody tr th {\n",
       "        vertical-align: top;\n",
       "    }\n",
       "\n",
       "    .dataframe thead th {\n",
       "        text-align: right;\n",
       "    }\n",
       "</style>\n",
       "<table border=\"1\" class=\"dataframe\">\n",
       "  <thead>\n",
       "    <tr style=\"text-align: right;\">\n",
       "      <th></th>\n",
       "      <th>Date</th>\n",
       "      <th>Open</th>\n",
       "      <th>High</th>\n",
       "      <th>Low</th>\n",
       "      <th>Close</th>\n",
       "      <th>Adj Close</th>\n",
       "      <th>Volume</th>\n",
       "    </tr>\n",
       "  </thead>\n",
       "  <tbody>\n",
       "    <tr>\n",
       "      <th>0</th>\n",
       "      <td>1950-01-03</td>\n",
       "      <td>16.66</td>\n",
       "      <td>16.66</td>\n",
       "      <td>16.66</td>\n",
       "      <td>16.66</td>\n",
       "      <td>16.66</td>\n",
       "      <td>1260000</td>\n",
       "    </tr>\n",
       "    <tr>\n",
       "      <th>1</th>\n",
       "      <td>1950-01-04</td>\n",
       "      <td>16.85</td>\n",
       "      <td>16.85</td>\n",
       "      <td>16.85</td>\n",
       "      <td>16.85</td>\n",
       "      <td>16.85</td>\n",
       "      <td>1890000</td>\n",
       "    </tr>\n",
       "    <tr>\n",
       "      <th>2</th>\n",
       "      <td>1950-01-05</td>\n",
       "      <td>16.93</td>\n",
       "      <td>16.93</td>\n",
       "      <td>16.93</td>\n",
       "      <td>16.93</td>\n",
       "      <td>16.93</td>\n",
       "      <td>2550000</td>\n",
       "    </tr>\n",
       "    <tr>\n",
       "      <th>3</th>\n",
       "      <td>1950-01-06</td>\n",
       "      <td>16.98</td>\n",
       "      <td>16.98</td>\n",
       "      <td>16.98</td>\n",
       "      <td>16.98</td>\n",
       "      <td>16.98</td>\n",
       "      <td>2010000</td>\n",
       "    </tr>\n",
       "    <tr>\n",
       "      <th>4</th>\n",
       "      <td>1950-01-09</td>\n",
       "      <td>17.08</td>\n",
       "      <td>17.08</td>\n",
       "      <td>17.08</td>\n",
       "      <td>17.08</td>\n",
       "      <td>17.08</td>\n",
       "      <td>2520000</td>\n",
       "    </tr>\n",
       "  </tbody>\n",
       "</table>\n",
       "</div>"
      ],
      "text/plain": [
       "         Date   Open   High    Low  Close  Adj Close   Volume\n",
       "0  1950-01-03  16.66  16.66  16.66  16.66      16.66  1260000\n",
       "1  1950-01-04  16.85  16.85  16.85  16.85      16.85  1890000\n",
       "2  1950-01-05  16.93  16.93  16.93  16.93      16.93  2550000\n",
       "3  1950-01-06  16.98  16.98  16.98  16.98      16.98  2010000\n",
       "4  1950-01-09  17.08  17.08  17.08  17.08      17.08  2520000"
      ]
     },
     "execution_count": 214,
     "metadata": {},
     "output_type": "execute_result"
    }
   ],
   "source": [
    "indexes = pd.read_csv('GSPC.csv')\n",
    "indexes.head()\n"
   ]
  },
  {
   "cell_type": "markdown",
   "metadata": {},
   "source": [
    "## Historisch rendement berekenen"
   ]
  },
  {
   "cell_type": "code",
   "execution_count": 215,
   "metadata": {},
   "outputs": [],
   "source": [
    "# Pak de start prijs van de dataset en eindprijs\n",
    "startPrice = float(indexes['Open'][0])\n",
    "endPrice = float(indexes['Open'][len(indexes['Open'])-1])\n",
    "\n",
    "# Pak het start jaar en het eindjaar\n",
    "startDate = int(indexes['Date'][0][:4])\n",
    "endDate = int(indexes['Date'][len(indexes['Date'])-1][:4])\n",
    "\n",
    "# Bereken het jaarlijks rendement\n",
    "historischRendement = (endPrice/startPrice)**(1/(endDate-startDate))-1"
   ]
  },
  {
   "cell_type": "markdown",
   "metadata": {},
   "source": [
    "## Het schoonmaken\n",
    "Dan gaan we de dataset schoonmaken en alle kolommen droppen die we niet meer gaan gebruiken. Ook maken we van de kolomnamen kleine letters want dat is handig!"
   ]
  },
  {
   "cell_type": "code",
   "execution_count": 216,
   "metadata": {
    "pycharm": {
     "is_executing": false,
     "name": "#%%\n"
    }
   },
   "outputs": [
    {
     "data": {
      "text/html": [
       "<div>\n",
       "<style scoped>\n",
       "    .dataframe tbody tr th:only-of-type {\n",
       "        vertical-align: middle;\n",
       "    }\n",
       "\n",
       "    .dataframe tbody tr th {\n",
       "        vertical-align: top;\n",
       "    }\n",
       "\n",
       "    .dataframe thead th {\n",
       "        text-align: right;\n",
       "    }\n",
       "</style>\n",
       "<table border=\"1\" class=\"dataframe\">\n",
       "  <thead>\n",
       "    <tr style=\"text-align: right;\">\n",
       "      <th></th>\n",
       "      <th>date</th>\n",
       "      <th>open</th>\n",
       "    </tr>\n",
       "  </thead>\n",
       "  <tbody>\n",
       "    <tr>\n",
       "      <th>0</th>\n",
       "      <td>1950-01-03</td>\n",
       "      <td>16.66</td>\n",
       "    </tr>\n",
       "    <tr>\n",
       "      <th>1</th>\n",
       "      <td>1950-01-04</td>\n",
       "      <td>16.85</td>\n",
       "    </tr>\n",
       "    <tr>\n",
       "      <th>2</th>\n",
       "      <td>1950-01-05</td>\n",
       "      <td>16.93</td>\n",
       "    </tr>\n",
       "    <tr>\n",
       "      <th>3</th>\n",
       "      <td>1950-01-06</td>\n",
       "      <td>16.98</td>\n",
       "    </tr>\n",
       "    <tr>\n",
       "      <th>4</th>\n",
       "      <td>1950-01-09</td>\n",
       "      <td>17.08</td>\n",
       "    </tr>\n",
       "  </tbody>\n",
       "</table>\n",
       "</div>"
      ],
      "text/plain": [
       "        date   open\n",
       "0 1950-01-03  16.66\n",
       "1 1950-01-04  16.85\n",
       "2 1950-01-05  16.93\n",
       "3 1950-01-06  16.98\n",
       "4 1950-01-09  17.08"
      ]
     },
     "execution_count": 216,
     "metadata": {},
     "output_type": "execute_result"
    }
   ],
   "source": [
    "indexes['date'] = pd.to_datetime(indexes['Date'])\n",
    "indexes['open'] = indexes['Open']\n",
    "columns_to_keep = [\n",
    "    'date',\n",
    "    'open'\n",
    "]\n",
    "indexes = indexes[columns_to_keep]\n",
    "indexes.head()"
   ]
  },
  {
   "cell_type": "markdown",
   "metadata": {},
   "source": [
    "Nu gaan we de startjaar en eindjaar bepalen"
   ]
  },
  {
   "cell_type": "code",
   "execution_count": 217,
   "metadata": {
    "pycharm": {
     "is_executing": false,
     "name": "#%%\n"
    }
   },
   "outputs": [
    {
     "data": {
      "text/plain": [
       "2026"
      ]
     },
     "execution_count": 217,
     "metadata": {},
     "output_type": "execute_result"
    }
   ],
   "source": [
    "startjaar = 2016\n",
    "duur = 10\n",
    "eindjaar = startjaar + duur\n",
    "eindjaar"
   ]
  },
  {
   "cell_type": "code",
   "execution_count": null,
   "metadata": {},
   "outputs": [],
   "source": []
  },
  {
   "cell_type": "code",
   "execution_count": null,
   "metadata": {},
   "outputs": [],
   "source": []
  },
  {
   "cell_type": "markdown",
   "metadata": {},
   "source": [
    "Stel de rente in op de lening en het jaarlijks rendement op de staatslening beleggingen"
   ]
  },
  {
   "cell_type": "code",
   "execution_count": 218,
   "metadata": {
    "pycharm": {
     "is_executing": false,
     "name": "#%%\n"
    }
   },
   "outputs": [],
   "source": [
    "leningrente = 0.02140\n",
    "bondsrendement = 0.0171"
   ]
  },
  {
   "cell_type": "markdown",
   "metadata": {},
   "source": [
    "Nu gaan we een nieuwe Dataframe maken waar al onze resultaten in komen, we maken er eerst eentje met alle datums waar we gaan investeren. "
   ]
  },
  {
   "cell_type": "code",
   "execution_count": 219,
   "metadata": {
    "pycharm": {
     "is_executing": false,
     "name": "#%%\n"
    }
   },
   "outputs": [
    {
     "data": {
      "text/html": [
       "<div>\n",
       "<style scoped>\n",
       "    .dataframe tbody tr th:only-of-type {\n",
       "        vertical-align: middle;\n",
       "    }\n",
       "\n",
       "    .dataframe tbody tr th {\n",
       "        vertical-align: top;\n",
       "    }\n",
       "\n",
       "    .dataframe thead th {\n",
       "        text-align: right;\n",
       "    }\n",
       "</style>\n",
       "<table border=\"1\" class=\"dataframe\">\n",
       "  <thead>\n",
       "    <tr style=\"text-align: right;\">\n",
       "      <th></th>\n",
       "      <th>date</th>\n",
       "      <th>schuld met rente 0.00</th>\n",
       "      <th>schuld met rente 2.1399999999999997</th>\n",
       "    </tr>\n",
       "  </thead>\n",
       "  <tbody>\n",
       "    <tr>\n",
       "      <th>0</th>\n",
       "      <td>2016-09-01</td>\n",
       "      <td>0.0</td>\n",
       "      <td>0.0</td>\n",
       "    </tr>\n",
       "    <tr>\n",
       "      <th>1</th>\n",
       "      <td>2017-09-01</td>\n",
       "      <td>0.0</td>\n",
       "      <td>0.0</td>\n",
       "    </tr>\n",
       "    <tr>\n",
       "      <th>2</th>\n",
       "      <td>2018-09-01</td>\n",
       "      <td>0.0</td>\n",
       "      <td>0.0</td>\n",
       "    </tr>\n",
       "    <tr>\n",
       "      <th>3</th>\n",
       "      <td>2019-09-01</td>\n",
       "      <td>0.0</td>\n",
       "      <td>0.0</td>\n",
       "    </tr>\n",
       "    <tr>\n",
       "      <th>4</th>\n",
       "      <td>2020-09-01</td>\n",
       "      <td>0.0</td>\n",
       "      <td>0.0</td>\n",
       "    </tr>\n",
       "  </tbody>\n",
       "</table>\n",
       "</div>"
      ],
      "text/plain": [
       "        date  schuld met rente 0.00  schuld met rente 2.1399999999999997\n",
       "0 2016-09-01                    0.0                                  0.0\n",
       "1 2017-09-01                    0.0                                  0.0\n",
       "2 2018-09-01                    0.0                                  0.0\n",
       "3 2019-09-01                    0.0                                  0.0\n",
       "4 2020-09-01                    0.0                                  0.0"
      ]
     },
     "execution_count": 219,
     "metadata": {},
     "output_type": "execute_result"
    }
   ],
   "source": [
    "jaren = pd.date_range(str(startjaar) + \"-09-01\", periods=duur + 1, freq='AS-SEP')\n",
    "df = pd.DataFrame({'date': jaren, 'schuld met rente 0.00': 0.0, 'schuld met rente {}'.format(leningrente*100): 0.0})\n",
    "df.head()"
   ]
  },
  {
   "cell_type": "markdown",
   "metadata": {},
   "source": [
    "Nu gaan we de maandelijkse studiefinanciering bepalen, deze is te vinden op de site van DUO."
   ]
  },
  {
   "cell_type": "code",
   "execution_count": 220,
   "metadata": {
    "pycharm": {
     "is_executing": false,
     "name": "#%%\n"
    }
   },
   "outputs": [
    {
     "data": {
      "text/plain": [
       "1056.06"
      ]
     },
     "execution_count": 220,
     "metadata": {},
     "output_type": "execute_result"
    }
   ],
   "source": [
    "lening = 486.08\n",
    "beurs = 396.39\n",
    "collegegeldkrediet = 173.59\n",
    "totaal = lening + beurs + collegegeldkrediet\n",
    "totaal"
   ]
  },
  {
   "cell_type": "markdown",
   "metadata": {},
   "source": [
    "Dat is wat we per maand kunnen krijgen van Ome duo. Per jaar is dat dus:"
   ]
  },
  {
   "cell_type": "code",
   "execution_count": 221,
   "metadata": {
    "pycharm": {
     "is_executing": false,
     "name": "#%%\n"
    }
   },
   "outputs": [
    {
     "data": {
      "text/plain": [
       "12672.72"
      ]
     },
     "execution_count": 221,
     "metadata": {},
     "output_type": "execute_result"
    }
   ],
   "source": [
    "totaal = totaal * 12\n",
    "totaal"
   ]
  },
  {
   "cell_type": "markdown",
   "metadata": {},
   "source": [
    "Op 1 september van het eerste jaar hebben we nog geen geld, want dan beginnen we pas, dus dan is de schuld 0"
   ]
  },
  {
   "cell_type": "code",
   "execution_count": 222,
   "metadata": {
    "pycharm": {
     "is_executing": false,
     "name": "#%%\n"
    }
   },
   "outputs": [
    {
     "data": {
      "text/html": [
       "<div>\n",
       "<style scoped>\n",
       "    .dataframe tbody tr th:only-of-type {\n",
       "        vertical-align: middle;\n",
       "    }\n",
       "\n",
       "    .dataframe tbody tr th {\n",
       "        vertical-align: top;\n",
       "    }\n",
       "\n",
       "    .dataframe thead th {\n",
       "        text-align: right;\n",
       "    }\n",
       "</style>\n",
       "<table border=\"1\" class=\"dataframe\">\n",
       "  <thead>\n",
       "    <tr style=\"text-align: right;\">\n",
       "      <th></th>\n",
       "      <th>date</th>\n",
       "      <th>schuld met rente 0.00</th>\n",
       "      <th>schuld met rente 2.1399999999999997</th>\n",
       "    </tr>\n",
       "  </thead>\n",
       "  <tbody>\n",
       "    <tr>\n",
       "      <th>0</th>\n",
       "      <td>2016-09-01</td>\n",
       "      <td>0.0</td>\n",
       "      <td>0.0</td>\n",
       "    </tr>\n",
       "    <tr>\n",
       "      <th>1</th>\n",
       "      <td>2017-09-01</td>\n",
       "      <td>0.0</td>\n",
       "      <td>0.0</td>\n",
       "    </tr>\n",
       "    <tr>\n",
       "      <th>2</th>\n",
       "      <td>2018-09-01</td>\n",
       "      <td>0.0</td>\n",
       "      <td>0.0</td>\n",
       "    </tr>\n",
       "    <tr>\n",
       "      <th>3</th>\n",
       "      <td>2019-09-01</td>\n",
       "      <td>0.0</td>\n",
       "      <td>0.0</td>\n",
       "    </tr>\n",
       "    <tr>\n",
       "      <th>4</th>\n",
       "      <td>2020-09-01</td>\n",
       "      <td>0.0</td>\n",
       "      <td>0.0</td>\n",
       "    </tr>\n",
       "    <tr>\n",
       "      <th>5</th>\n",
       "      <td>2021-09-01</td>\n",
       "      <td>0.0</td>\n",
       "      <td>0.0</td>\n",
       "    </tr>\n",
       "    <tr>\n",
       "      <th>6</th>\n",
       "      <td>2022-09-01</td>\n",
       "      <td>0.0</td>\n",
       "      <td>0.0</td>\n",
       "    </tr>\n",
       "    <tr>\n",
       "      <th>7</th>\n",
       "      <td>2023-09-01</td>\n",
       "      <td>0.0</td>\n",
       "      <td>0.0</td>\n",
       "    </tr>\n",
       "    <tr>\n",
       "      <th>8</th>\n",
       "      <td>2024-09-01</td>\n",
       "      <td>0.0</td>\n",
       "      <td>0.0</td>\n",
       "    </tr>\n",
       "    <tr>\n",
       "      <th>9</th>\n",
       "      <td>2025-09-01</td>\n",
       "      <td>0.0</td>\n",
       "      <td>0.0</td>\n",
       "    </tr>\n",
       "    <tr>\n",
       "      <th>10</th>\n",
       "      <td>2026-09-01</td>\n",
       "      <td>0.0</td>\n",
       "      <td>0.0</td>\n",
       "    </tr>\n",
       "  </tbody>\n",
       "</table>\n",
       "</div>"
      ],
      "text/plain": [
       "         date  schuld met rente 0.00  schuld met rente 2.1399999999999997\n",
       "0  2016-09-01                    0.0                                  0.0\n",
       "1  2017-09-01                    0.0                                  0.0\n",
       "2  2018-09-01                    0.0                                  0.0\n",
       "3  2019-09-01                    0.0                                  0.0\n",
       "4  2020-09-01                    0.0                                  0.0\n",
       "5  2021-09-01                    0.0                                  0.0\n",
       "6  2022-09-01                    0.0                                  0.0\n",
       "7  2023-09-01                    0.0                                  0.0\n",
       "8  2024-09-01                    0.0                                  0.0\n",
       "9  2025-09-01                    0.0                                  0.0\n",
       "10 2026-09-01                    0.0                                  0.0"
      ]
     },
     "execution_count": 222,
     "metadata": {},
     "output_type": "execute_result"
    }
   ],
   "source": [
    "df['schuld met rente 0.00'][0] = 0\n",
    "df['schuld met rente {}'.format(leningrente*100)][0] = 0\n",
    "df"
   ]
  },
  {
   "cell_type": "markdown",
   "metadata": {},
   "source": [
    "Doordat er in de dataset niet altijd een 1 september te vinden is, omdat er in het weekend de markten niet open zijn, gaan we kijken wat de eerstvolgende datum is dat er wel een waarde beschikbaar is"
   ]
  },
  {
   "cell_type": "code",
   "execution_count": 223,
   "metadata": {
    "pycharm": {
     "is_executing": false,
     "name": "#%%\n"
    }
   },
   "outputs": [
    {
     "data": {
      "text/html": [
       "<div>\n",
       "<style scoped>\n",
       "    .dataframe tbody tr th:only-of-type {\n",
       "        vertical-align: middle;\n",
       "    }\n",
       "\n",
       "    .dataframe tbody tr th {\n",
       "        vertical-align: top;\n",
       "    }\n",
       "\n",
       "    .dataframe thead th {\n",
       "        text-align: right;\n",
       "    }\n",
       "</style>\n",
       "<table border=\"1\" class=\"dataframe\">\n",
       "  <thead>\n",
       "    <tr style=\"text-align: right;\">\n",
       "      <th></th>\n",
       "      <th>date</th>\n",
       "      <th>schuld met rente 0.00</th>\n",
       "      <th>schuld met rente 2.1399999999999997</th>\n",
       "      <th>open</th>\n",
       "    </tr>\n",
       "  </thead>\n",
       "  <tbody>\n",
       "    <tr>\n",
       "      <th>0</th>\n",
       "      <td>2016-09-01</td>\n",
       "      <td>0.0</td>\n",
       "      <td>0.0</td>\n",
       "      <td>2171.330078</td>\n",
       "    </tr>\n",
       "    <tr>\n",
       "      <th>1</th>\n",
       "      <td>2017-09-01</td>\n",
       "      <td>0.0</td>\n",
       "      <td>0.0</td>\n",
       "      <td>2474.419922</td>\n",
       "    </tr>\n",
       "    <tr>\n",
       "      <th>2</th>\n",
       "      <td>2018-09-01</td>\n",
       "      <td>0.0</td>\n",
       "      <td>0.0</td>\n",
       "      <td>2753.250000</td>\n",
       "    </tr>\n",
       "    <tr>\n",
       "      <th>3</th>\n",
       "      <td>2019-09-01</td>\n",
       "      <td>0.0</td>\n",
       "      <td>0.0</td>\n",
       "      <td>2968.013039</td>\n",
       "    </tr>\n",
       "    <tr>\n",
       "      <th>4</th>\n",
       "      <td>2020-09-01</td>\n",
       "      <td>0.0</td>\n",
       "      <td>0.0</td>\n",
       "      <td>3199.528339</td>\n",
       "    </tr>\n",
       "  </tbody>\n",
       "</table>\n",
       "</div>"
      ],
      "text/plain": [
       "        date  schuld met rente 0.00  schuld met rente 2.1399999999999997  \\\n",
       "0 2016-09-01                    0.0                                  0.0   \n",
       "1 2017-09-01                    0.0                                  0.0   \n",
       "2 2018-09-01                    0.0                                  0.0   \n",
       "3 2019-09-01                    0.0                                  0.0   \n",
       "4 2020-09-01                    0.0                                  0.0   \n",
       "\n",
       "          open  \n",
       "0  2171.330078  \n",
       "1  2474.419922  \n",
       "2  2753.250000  \n",
       "3  2968.013039  \n",
       "4  3199.528339  "
      ]
     },
     "execution_count": 223,
     "metadata": {},
     "output_type": "execute_result"
    }
   ],
   "source": [
    "def get_day_value(date):\n",
    "    global df, indexes\n",
    "    if len(indexes[indexes['date'] != date]) != len(indexes) - 1:\n",
    "        return get_day_value(date + datetime.timedelta(days=1))\n",
    "    # Check of datum in de toekomst van de dataset ligt\n",
    "    else:\n",
    "        return indexes[indexes['date'] == date]\n",
    "\n",
    "# Variable to save previous price\n",
    "firstFuturePrice = True\n",
    "\n",
    "for index, row in df.iterrows():\n",
    "    if int(str(df['date'][index])[:4]) <= (endDate-1):\n",
    "        df['date'][index] = get_day_value(row['date']).iloc[0]['date']\n",
    "    else:\n",
    "        # Verkrijg data\n",
    "        date = df['date'][index]\n",
    "        \n",
    "        # Eerste run, pak de open prijs op basis van de vorige date\n",
    "        if firstFuturePrice == True:\n",
    "            openPrice = (float(indexes['open'][len(indexes)-1]))\n",
    "            firstFuturePrice = False\n",
    "        # Neem de vorige prijs uit de dataset\n",
    "        else:\n",
    "            openPrice = (float(indexes['open'][len(indexes)-1])*(historischRendement+1))\n",
    "        \n",
    "        # Maak in de dataset de datum aan, deze bestaat alleen in de toekomst namelijk\n",
    "        # Update de dataset\n",
    "        indexes = indexes.append({'date': date, 'open': openPrice}, ignore_index=True)\n",
    "        \n",
    "df.head()\n",
    "df = pd.merge(df, indexes, on='date')\n",
    "df.head()"
   ]
  },
  {
   "cell_type": "markdown",
   "metadata": {
    "pycharm": {
     "name": "#%% md\n"
    }
   },
   "source": [
    "We voegen nog de kolommen toe voor de aantal aandelen en voor de rest van het geld"
   ]
  },
  {
   "cell_type": "code",
   "execution_count": 224,
   "metadata": {
    "pycharm": {
     "is_executing": false,
     "name": "#%%\n"
    }
   },
   "outputs": [
    {
     "data": {
      "text/html": [
       "<div>\n",
       "<style scoped>\n",
       "    .dataframe tbody tr th:only-of-type {\n",
       "        vertical-align: middle;\n",
       "    }\n",
       "\n",
       "    .dataframe tbody tr th {\n",
       "        vertical-align: top;\n",
       "    }\n",
       "\n",
       "    .dataframe thead th {\n",
       "        text-align: right;\n",
       "    }\n",
       "</style>\n",
       "<table border=\"1\" class=\"dataframe\">\n",
       "  <thead>\n",
       "    <tr style=\"text-align: right;\">\n",
       "      <th></th>\n",
       "      <th>date</th>\n",
       "      <th>schuld met rente 0.00</th>\n",
       "      <th>schuld met rente 2.1399999999999997</th>\n",
       "      <th>open</th>\n",
       "      <th>aandelen</th>\n",
       "      <th>rest</th>\n",
       "    </tr>\n",
       "  </thead>\n",
       "  <tbody>\n",
       "    <tr>\n",
       "      <th>0</th>\n",
       "      <td>2016-09-01</td>\n",
       "      <td>0.0</td>\n",
       "      <td>0.0</td>\n",
       "      <td>2171.330078</td>\n",
       "      <td>0</td>\n",
       "      <td>0</td>\n",
       "    </tr>\n",
       "    <tr>\n",
       "      <th>1</th>\n",
       "      <td>2017-09-01</td>\n",
       "      <td>0.0</td>\n",
       "      <td>0.0</td>\n",
       "      <td>2474.419922</td>\n",
       "      <td>0</td>\n",
       "      <td>0</td>\n",
       "    </tr>\n",
       "    <tr>\n",
       "      <th>2</th>\n",
       "      <td>2018-09-01</td>\n",
       "      <td>0.0</td>\n",
       "      <td>0.0</td>\n",
       "      <td>2753.250000</td>\n",
       "      <td>0</td>\n",
       "      <td>0</td>\n",
       "    </tr>\n",
       "    <tr>\n",
       "      <th>3</th>\n",
       "      <td>2019-09-01</td>\n",
       "      <td>0.0</td>\n",
       "      <td>0.0</td>\n",
       "      <td>2968.013039</td>\n",
       "      <td>0</td>\n",
       "      <td>0</td>\n",
       "    </tr>\n",
       "    <tr>\n",
       "      <th>4</th>\n",
       "      <td>2020-09-01</td>\n",
       "      <td>0.0</td>\n",
       "      <td>0.0</td>\n",
       "      <td>3199.528339</td>\n",
       "      <td>0</td>\n",
       "      <td>0</td>\n",
       "    </tr>\n",
       "  </tbody>\n",
       "</table>\n",
       "</div>"
      ],
      "text/plain": [
       "        date  schuld met rente 0.00  schuld met rente 2.1399999999999997  \\\n",
       "0 2016-09-01                    0.0                                  0.0   \n",
       "1 2017-09-01                    0.0                                  0.0   \n",
       "2 2018-09-01                    0.0                                  0.0   \n",
       "3 2019-09-01                    0.0                                  0.0   \n",
       "4 2020-09-01                    0.0                                  0.0   \n",
       "\n",
       "          open  aandelen  rest  \n",
       "0  2171.330078         0     0  \n",
       "1  2474.419922         0     0  \n",
       "2  2753.250000         0     0  \n",
       "3  2968.013039         0     0  \n",
       "4  3199.528339         0     0  "
      ]
     },
     "execution_count": 224,
     "metadata": {},
     "output_type": "execute_result"
    }
   ],
   "source": [
    "df['aandelen'] = 0\n",
    "df['rest'] = 0\n",
    "df.head()"
   ]
  },
  {
   "cell_type": "markdown",
   "metadata": {
    "pycharm": {
     "name": "#%% md\n"
    }
   },
   "source": [
    "Nu komt het gedeelte waar we elk jaar berekenen "
   ]
  },
  {
   "cell_type": "code",
   "execution_count": 225,
   "metadata": {
    "pycharm": {
     "is_executing": false,
     "name": "#%%\n"
    },
    "scrolled": true
   },
   "outputs": [
    {
     "data": {
      "text/html": [
       "<div>\n",
       "<style scoped>\n",
       "    .dataframe tbody tr th:only-of-type {\n",
       "        vertical-align: middle;\n",
       "    }\n",
       "\n",
       "    .dataframe tbody tr th {\n",
       "        vertical-align: top;\n",
       "    }\n",
       "\n",
       "    .dataframe thead th {\n",
       "        text-align: right;\n",
       "    }\n",
       "</style>\n",
       "<table border=\"1\" class=\"dataframe\">\n",
       "  <thead>\n",
       "    <tr style=\"text-align: right;\">\n",
       "      <th></th>\n",
       "      <th>date</th>\n",
       "      <th>schuld met rente 0.00</th>\n",
       "      <th>schuld met rente 2.1399999999999997</th>\n",
       "      <th>open</th>\n",
       "      <th>aandelen</th>\n",
       "      <th>rest</th>\n",
       "      <th>waarde staatsleningen</th>\n",
       "    </tr>\n",
       "  </thead>\n",
       "  <tbody>\n",
       "    <tr>\n",
       "      <th>0</th>\n",
       "      <td>2016-09-01</td>\n",
       "      <td>12672.72</td>\n",
       "      <td>12672.72</td>\n",
       "      <td>2171.330078</td>\n",
       "      <td>0.0</td>\n",
       "      <td>0.000000</td>\n",
       "      <td>12672.72</td>\n",
       "    </tr>\n",
       "    <tr>\n",
       "      <th>1</th>\n",
       "      <td>2017-09-01</td>\n",
       "      <td>25345.44</td>\n",
       "      <td>25616.64</td>\n",
       "      <td>2474.419922</td>\n",
       "      <td>5.0</td>\n",
       "      <td>300.620390</td>\n",
       "      <td>25562.14</td>\n",
       "    </tr>\n",
       "    <tr>\n",
       "      <th>2</th>\n",
       "      <td>2018-09-01</td>\n",
       "      <td>38018.16</td>\n",
       "      <td>38837.56</td>\n",
       "      <td>2753.250000</td>\n",
       "      <td>9.0</td>\n",
       "      <td>1960.340390</td>\n",
       "      <td>38671.97</td>\n",
       "    </tr>\n",
       "    <tr>\n",
       "      <th>3</th>\n",
       "      <td>2019-09-01</td>\n",
       "      <td>50690.88</td>\n",
       "      <td>52341.40</td>\n",
       "      <td>2968.013039</td>\n",
       "      <td>13.0</td>\n",
       "      <td>2761.008234</td>\n",
       "      <td>52005.98</td>\n",
       "    </tr>\n",
       "    <tr>\n",
       "      <th>4</th>\n",
       "      <td>2020-09-01</td>\n",
       "      <td>50691.00</td>\n",
       "      <td>53461.51</td>\n",
       "      <td>3199.528339</td>\n",
       "      <td>17.0</td>\n",
       "      <td>2635.614879</td>\n",
       "      <td>52895.28</td>\n",
       "    </tr>\n",
       "    <tr>\n",
       "      <th>5</th>\n",
       "      <td>2021-09-01</td>\n",
       "      <td>50691.00</td>\n",
       "      <td>54605.59</td>\n",
       "      <td>3449.102634</td>\n",
       "      <td>17.0</td>\n",
       "      <td>2635.614879</td>\n",
       "      <td>53799.79</td>\n",
       "    </tr>\n",
       "    <tr>\n",
       "      <th>6</th>\n",
       "      <td>2022-09-01</td>\n",
       "      <td>50691.00</td>\n",
       "      <td>55774.15</td>\n",
       "      <td>3718.144590</td>\n",
       "      <td>17.0</td>\n",
       "      <td>2635.614879</td>\n",
       "      <td>54719.77</td>\n",
       "    </tr>\n",
       "    <tr>\n",
       "      <th>7</th>\n",
       "      <td>2023-09-01</td>\n",
       "      <td>50691.00</td>\n",
       "      <td>56967.72</td>\n",
       "      <td>4008.172749</td>\n",
       "      <td>17.0</td>\n",
       "      <td>2635.614879</td>\n",
       "      <td>55655.48</td>\n",
       "    </tr>\n",
       "    <tr>\n",
       "      <th>8</th>\n",
       "      <td>2024-09-01</td>\n",
       "      <td>50691.00</td>\n",
       "      <td>58186.83</td>\n",
       "      <td>4320.824111</td>\n",
       "      <td>17.0</td>\n",
       "      <td>2635.614879</td>\n",
       "      <td>56607.19</td>\n",
       "    </tr>\n",
       "    <tr>\n",
       "      <th>9</th>\n",
       "      <td>2025-09-01</td>\n",
       "      <td>50691.00</td>\n",
       "      <td>59432.03</td>\n",
       "      <td>4657.863361</td>\n",
       "      <td>17.0</td>\n",
       "      <td>2635.614879</td>\n",
       "      <td>57575.17</td>\n",
       "    </tr>\n",
       "    <tr>\n",
       "      <th>10</th>\n",
       "      <td>2026-09-01</td>\n",
       "      <td>50691.00</td>\n",
       "      <td>60703.88</td>\n",
       "      <td>5021.192841</td>\n",
       "      <td>17.0</td>\n",
       "      <td>2635.614879</td>\n",
       "      <td>58559.71</td>\n",
       "    </tr>\n",
       "  </tbody>\n",
       "</table>\n",
       "</div>"
      ],
      "text/plain": [
       "         date  schuld met rente 0.00  schuld met rente 2.1399999999999997  \\\n",
       "0  2016-09-01               12672.72                             12672.72   \n",
       "1  2017-09-01               25345.44                             25616.64   \n",
       "2  2018-09-01               38018.16                             38837.56   \n",
       "3  2019-09-01               50690.88                             52341.40   \n",
       "4  2020-09-01               50691.00                             53461.51   \n",
       "5  2021-09-01               50691.00                             54605.59   \n",
       "6  2022-09-01               50691.00                             55774.15   \n",
       "7  2023-09-01               50691.00                             56967.72   \n",
       "8  2024-09-01               50691.00                             58186.83   \n",
       "9  2025-09-01               50691.00                             59432.03   \n",
       "10 2026-09-01               50691.00                             60703.88   \n",
       "\n",
       "           open  aandelen         rest  waarde staatsleningen  \n",
       "0   2171.330078       0.0     0.000000               12672.72  \n",
       "1   2474.419922       5.0   300.620390               25562.14  \n",
       "2   2753.250000       9.0  1960.340390               38671.97  \n",
       "3   2968.013039      13.0  2761.008234               52005.98  \n",
       "4   3199.528339      17.0  2635.614879               52895.28  \n",
       "5   3449.102634      17.0  2635.614879               53799.79  \n",
       "6   3718.144590      17.0  2635.614879               54719.77  \n",
       "7   4008.172749      17.0  2635.614879               55655.48  \n",
       "8   4320.824111      17.0  2635.614879               56607.19  \n",
       "9   4657.863361      17.0  2635.614879               57575.17  \n",
       "10  5021.192841      17.0  2635.614879               58559.71  "
      ]
     },
     "execution_count": 225,
     "metadata": {},
     "output_type": "execute_result"
    }
   ],
   "source": [
    "for index, row in df.iterrows():\n",
    "    if index == 0:\n",
    "        # Jaar 1 totaal = schuld\n",
    "        df.loc[index, 'schuld met rente 0.00'] = totaal\n",
    "        df.loc[index, 'schuld met rente {}'.format(leningrente*100)] = totaal\n",
    "        df.loc[index, 'aandelen'] = 0 \n",
    "        df.loc[index, 'rest'] = 0 \n",
    "        \n",
    "        # Waarde staatsleningen jaar 1 = totaal, er is nog niks belegd\n",
    "        df.loc[index, 'waarde staatsleningen'] = totaal\n",
    "        \n",
    "    # Jaren waarin belegd wordt\n",
    "    elif index <= 3:\n",
    "        # Neem rente mee in de schuld = totaal * (1 + rente)^aantal jaren\n",
    "        df.loc[index, 'schuld met rente 0.00'] = df.iloc[index - 1]['schuld met rente 0.00'] + totaal\n",
    "        df.loc[index, 'schuld met rente {}'.format(leningrente*100)] = round(df.iloc[index - 1]['schuld met rente {}'.format(leningrente*100)] + (totaal * (1 + leningrente)**index),2)\n",
    "        df.loc[index, 'aandelen'] = df.loc[index - 1, 'aandelen'] + np.floor((totaal + df.loc[index - 1, 'rest']) / row['open'])\n",
    "        df.loc[index, 'rest'] = (totaal + df.loc[index -1, 'rest']) - np.floor((totaal + df.loc[index - 1, 'rest']) / row['open']) * row['open']\n",
    "        df.loc[index, 'waarde staatsleningen'] = round(df.loc[index -1, 'waarde staatsleningen'] + (totaal * (1 + bondsrendement)**index),2)\n",
    "    \n",
    "    # Rente laatste inleg jaar\n",
    "    elif index == 4:\n",
    "        df.loc[index, 'schuld met rente 0.00'] = round(df.loc[index - 1, 'schuld met rente 0.00'])\n",
    "        df.loc[index, 'schuld met rente {}'.format(leningrente*100)] = round(df.loc[index - 1, 'schuld met rente {}'.format(leningrente*100)] * (1 + leningrente ), 2)\n",
    "        df.loc[index, 'aandelen'] = df.loc[index - 1, 'aandelen'] + np.floor((totaal + df.loc[index - 1, 'rest']) / row['open'])\n",
    "        df.loc[index, 'rest'] = (totaal + df.loc[index -1, 'rest']) - np.floor((totaal + df.loc[index - 1, 'rest']) / row['open']) * row['open']\n",
    "        df.loc[index, 'waarde staatsleningen'] = round(df.loc[index - 1, 'waarde staatsleningen'] * (1 + bondsrendement),2)\n",
    "        \n",
    "    # Rente jaren\n",
    "    else:\n",
    "        # Neem rente mee in eindstand, voeg rente toe op de vorige schuld\n",
    "        df.loc[index, 'schuld met rente 0.00'] = round(df.loc[index - 1, 'schuld met rente 0.00'])\n",
    "        df.loc[index, 'schuld met rente {}'.format(leningrente*100)] = round(df.loc[index - 1, 'schuld met rente {}'.format(leningrente*100)] * (1 + leningrente ), 2)\n",
    "        df.loc[index, 'aandelen'] = df.loc[index - 1, 'aandelen']\n",
    "        df.loc[index, 'rest'] = df.loc[index - 1, 'rest']\n",
    "        \n",
    "        # Neem de laatste waarde en voeg daar nog eenmaal de rente op toe\n",
    "        df.loc[index, 'waarde staatsleningen'] = round(df.loc[index - 1, 'waarde staatsleningen'] * (1 + bondsrendement),2)\n",
    "        \n",
    "df"
   ]
  },
  {
   "cell_type": "markdown",
   "metadata": {
    "pycharm": {
     "name": "#%%\n"
    }
   },
   "source": [
    "## Totaal rendement bij SP500 met en zonder rente"
   ]
  },
  {
   "cell_type": "code",
   "execution_count": 226,
   "metadata": {},
   "outputs": [
    {
     "name": "stdout",
     "output_type": "stream",
     "text": [
      "Rendement in scenario 2016 tot en met 2026 met een jaarlijkse inleg van 12672.72 euro.\n",
      "\n",
      "SP500 rendement zonder rente: 37304.89 euro\n",
      "SP500 rendement met rente: 27292.01 euro\n",
      "De eindwaarde van het portfolio is: 87995.89 euro.\n",
      "\n",
      "Bonds rendement zonder rente: 7868.71 euro\n",
      "Bonds rendement met rente: -2144.17 euro\n",
      "De totaal opgebouwde studieschuld is: 50691.00 euro, met rente is deze: 60703.88 euro\n"
     ]
    }
   ],
   "source": [
    "# Eind waarde van het SP500 portfolio berekenen\n",
    "eindWaardeSP500 = round(df.loc[len(df) - 1, 'aandelen'] * df.loc[len(df) - 1, 'open'] + df.loc[len(df) - 1, 'rest'], 2)\n",
    "\n",
    "# Aantal aandelen * open waarde uitstap jaar \n",
    "sp500zonderrente = round(df.loc[len(df) - 1, 'aandelen'] * df.loc[len(df) - 1, 'open'] + df.loc[len(df) - 1, 'rest'] - df.loc[len(df) -1, 'schuld met rente 0.00'], 2)\n",
    "sp500metrente = round(df.loc[len(df) - 1, 'aandelen'] * df.loc[len(df) - 1, 'open'] + df.loc[len(df) - 1, 'rest'] - df.loc[len(df) -1, 'schuld met rente {}'.format(leningrente*100)], 2)\n",
    "\n",
    "# Waarde staatsleningen - schuld met rente x.xx\n",
    "staatsleningenzonderrente = round( df.loc[len(df) -1, 'waarde staatsleningen'] - df.loc[len(df) -1, 'schuld met rente 0.00'], 2)\n",
    "staatsleningenmetrente = round(df.loc[len(df) -1, 'waarde staatsleningen'] - df.loc[len(df) -1, 'schuld met rente {}'.format(leningrente*100)], 2)\n",
    "\n",
    "# Totale schuld\n",
    "totaalSchuldZonderRente = float(df.loc[len(df) -1, 'schuld met rente 0.00'])\n",
    "totaalSchuldMetRente = float(df.loc[len(df) -1, 'schuld met rente {}'.format(leningrente*100)])\n",
    "\n",
    "# Print de eindstand\n",
    "print('Rendement in scenario {} tot en met {} met een jaarlijkse inleg van {:.2f} euro.\\n'.format(startjaar, eindjaar, totaal))\n",
    "\n",
    "print('SP500 rendement zonder rente: {:.2f} euro'.format(sp500zonderrente))\n",
    "print('SP500 rendement met rente: {:.2f} euro'.format(sp500metrente))\n",
    "\n",
    "print('De eindwaarde van het portfolio is: {:.2f} euro.\\n'.format(eindWaardeSP500))\n",
    "\n",
    "print('Bonds rendement zonder rente: {:.2f} euro'.format(staatsleningenzonderrente))\n",
    "print('Bonds rendement met rente: {:.2f} euro'.format(staatsleningenmetrente))\n",
    "\n",
    "print('De totaal opgebouwde studieschuld is: {:.2f} euro, met rente is deze: {:.2f} euro'.format(totaalSchuldZonderRente, totaalSchuldMetRente))"
   ]
  },
  {
   "cell_type": "code",
   "execution_count": null,
   "metadata": {},
   "outputs": [],
   "source": []
  },
  {
   "cell_type": "code",
   "execution_count": 227,
   "metadata": {},
   "outputs": [
    {
     "data": {
      "image/png": "[encoded data removed]",
      "text/plain": [
       "<Figure size 432x288 with 1 Axes>"
      ]
     },
     "metadata": {
      "needs_background": "light"
     },
     "output_type": "display_data"
    }
   ],
   "source": [
    "fig, ax = plt.subplots()\n",
    "ax.plot(df['date'], df['waarde staatsleningen'] - df['schuld met rente 0.00'])\n",
    "ax.plot(df['date'], df['waarde staatsleningen'] - df['schuld met rente {}'.format(leningrente*100)])\n",
    "plt.show()"
   ]
  },
  {
   "cell_type": "code",
   "execution_count": null,
   "metadata": {},
   "outputs": [],
   "source": []
  },
  {
   "cell_type": "code",
   "execution_count": null,
   "metadata": {},
   "outputs": [],
   "source": []
  },
  {
   "cell_type": "code",
   "execution_count": null,
   "metadata": {},
   "outputs": [],
   "source": []
  }
 ],
 "metadata": {
  "kernelspec": {
   "display_name": "Python 3",
   "language": "python",
   "name": "python3"
  },
  "language_info": {
   "codemirror_mode": {
    "name": "ipython",
    "version": 3
   },
   "file_extension": ".py",
   "mimetype": "text/x-python",
   "name": "python",
   "nbconvert_exporter": "python",
   "pygments_lexer": "ipython3",
   "version": "3.7.3"
  },
  "pycharm": {
   "stem_cell": {
    "cell_type": "raw",
    "metadata": {
     "collapsed": false
    },
    "source": []
   }
  }
 },
 "nbformat": 4,
 "nbformat_minor": 2
}
